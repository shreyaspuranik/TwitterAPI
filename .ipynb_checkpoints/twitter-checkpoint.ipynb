{
 "cells": [
  {
   "cell_type": "code",
   "execution_count": 2,
   "metadata": {
    "collapsed": true
   },
   "outputs": [],
   "source": [
    "from twython import Twython\n",
    "#twitter = Twython(TWITTER_CONSUMER_KEY, TWITTER_CONSUMER_SECRET, TWITTER_ACCESS_TOKEN, TWITTER_ACCESS_TOKEN_SECRET)\n",
    "twitter = Twython(\"IiOtW45bmdR7XBNRe9YMp0U7K\", \"oQqiCyagUx64m8twlQ5ZapMS4PWBzkIkdMJCcz2X5Wb2gof5KY\", \"801644975788146688-in50UR2A2tAC8sDBcZqP81WEJYZXhMP\", \"11dxH99jiM0gVS4qCUXAVMFv4c9fooWWWI3RZd7yzrUv6\")  "
   ]
  },
  {
   "cell_type": "code",
   "execution_count": null,
   "metadata": {
    "collapsed": true
   },
   "outputs": [],
   "source": [
    "import time\n",
    "list1 = []\n",
    "lis = [802781598693425152] ## this is the latest starting tweet id\n",
    "for i in range(0, 20): ## iterate through all tweets\n",
    "## tweet extract method with the last list item as the max_id\n",
    "    user_timeline = twitter.get_user_timeline(screen_name=\"sachin_rt\",\n",
    "    count=200, include_retweets=False, max_id=lis[-1])\n",
    "    time.sleep(60)\n",
    "\n",
    "    for tweet in user_timeline:\n",
    "        list1.append(tweet['text'])\n",
    "        print(tweet['text']) ## print the tweet\n",
    "        lis.append(tweet['id']) ## append tweet id's"
   ]
  },
  {
   "cell_type": "code",
   "execution_count": 3,
   "metadata": {
    "collapsed": false
   },
   "outputs": [
    {
     "data": {
      "text/plain": [
       "13423"
      ]
     },
     "execution_count": 3,
     "metadata": {},
     "output_type": "execute_result"
    }
   ],
   "source": [
    "#Function to fetch total number of tweets\n",
    "def total_tweets(screen_name):\n",
    "    tl = twitter.get_user_timeline(screen_name = screen_name)\n",
    "    return tl[0].get(\"user\").get(\"statuses_count\")\n",
    "\n",
    "total_tweets(\"narendramodi\")"
   ]
  },
  {
   "cell_type": "code",
   "execution_count": null,
   "metadata": {
    "collapsed": true
   },
   "outputs": [],
   "source": [
    "#Function to retrieve most recent tweets of a user\n",
    "def all_tweets(screen_name):\n",
    "    import time\n",
    "    list1 = []\n",
    "    user_timeline = twitter.get_user_timeline(screen_name= screen_name,count = 1)\n",
    "    lis = [user_timeline[0][\"id\"]]## this is the latest starting tweet id\n",
    "    for i in range(0,17): ## iterate through all tweets\n",
    "    ## tweet extract method with the last list item as the max_id\n",
    "        user_timeline = twitter.get_user_timeline(screen_name= screen_name,\n",
    "        count=200, include_retweets=False, max_id=lis[-1])\n",
    "        #time.sleep(60)\n",
    "\n",
    "        for tweet in user_timeline:\n",
    "            list1.append(tweet['text'])\n",
    "            lis.append(tweet['id']) ## append tweet id's\n",
    "    \n",
    "    list1 = list(unique_everseen(list1))\n",
    "    return list1\n",
    "\n",
    "list_tweets = all_tweets(\"BJP4India\")"
   ]
  },
  {
   "cell_type": "code",
   "execution_count": null,
   "metadata": {
    "collapsed": true
   },
   "outputs": [],
   "source": []
  }
 ],
 "metadata": {
  "anaconda-cloud": {},
  "kernelspec": {
   "display_name": "Python [default]",
   "language": "python",
   "name": "python3"
  },
  "language_info": {
   "codemirror_mode": {
    "name": "ipython",
    "version": 3
   },
   "file_extension": ".py",
   "mimetype": "text/x-python",
   "name": "python",
   "nbconvert_exporter": "python",
   "pygments_lexer": "ipython3",
   "version": "3.5.2"
  }
 },
 "nbformat": 4,
 "nbformat_minor": 1
}
